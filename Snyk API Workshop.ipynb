{
 "cells": [
  {
   "cell_type": "markdown",
   "id": "22bc5b9b",
   "metadata": {},
   "source": [
    "# Welcome\n",
    "\n",
    "Please install `pysnyk` via pip before you begin.\n",
    "\n",
    "```\n",
    "pip3 install pysnyk\n",
    "```"
   ]
  },
  {
   "cell_type": "code",
   "execution_count": 1,
   "id": "ed0934c2",
   "metadata": {},
   "outputs": [],
   "source": [
    "import snyk\n",
    "import tabulate"
   ]
  },
  {
   "cell_type": "markdown",
   "id": "f3c0bc8e",
   "metadata": {},
   "source": [
    "Let's get connected."
   ]
  },
  {
   "cell_type": "code",
   "execution_count": 2,
   "id": "212c2b53",
   "metadata": {},
   "outputs": [],
   "source": [
    "client = snyk.SnykClient(\"5d778343-78e7-4c73-9ba6-55af47a2f6af\")"
   ]
  },
  {
   "cell_type": "code",
   "execution_count": 3,
   "id": "c03304c4",
   "metadata": {},
   "outputs": [],
   "source": [
    "orgs = client.organizations.all()"
   ]
  },
  {
   "cell_type": "code",
   "execution_count": 4,
   "id": "0583b5c8",
   "metadata": {},
   "outputs": [],
   "source": [
    "# tabulate.tabulate(orgs, tablefmt='html')"
   ]
  },
  {
   "cell_type": "code",
   "execution_count": 20,
   "id": "0a7bedc7",
   "metadata": {},
   "outputs": [],
   "source": [
    "org = orgs[2]"
   ]
  },
  {
   "cell_type": "code",
   "execution_count": 21,
   "id": "484b2a70",
   "metadata": {},
   "outputs": [
    {
     "name": "stdout",
     "output_type": "stream",
     "text": [
      "E Corp\n"
     ]
    }
   ],
   "source": [
    "print(org.name)"
   ]
  },
  {
   "cell_type": "code",
   "execution_count": 22,
   "id": "5b8ffd72",
   "metadata": {},
   "outputs": [
    {
     "data": {
      "text/plain": [
       "'47d53b9a-81ad-49c0-8cb5-73f814bbc1fd'"
      ]
     },
     "execution_count": 22,
     "metadata": {},
     "output_type": "execute_result"
    }
   ],
   "source": [
    "org.id"
   ]
  },
  {
   "cell_type": "code",
   "execution_count": 23,
   "id": "0701abb7",
   "metadata": {},
   "outputs": [
    {
     "data": {
      "text/plain": [
       "Organization(name='E Corp', id='47d53b9a-81ad-49c0-8cb5-73f814bbc1fd', slug='e-corp', url='https://app.snyk.io/org/e-corp', group=OrganizationGroup(name='E Corp Group', id='a6214dc6-8e1c-48a7-98dd-2cac2b4b8f54'), client=<snyk.client.SnykClient object at 0x104d3b460>)"
      ]
     },
     "execution_count": 23,
     "metadata": {},
     "output_type": "execute_result"
    }
   ],
   "source": [
    "client.organizations.get(org.id)"
   ]
  },
  {
   "cell_type": "code",
   "execution_count": 25,
   "id": "c4c19213",
   "metadata": {},
   "outputs": [],
   "source": [
    "projects = org.projects.all()"
   ]
  },
  {
   "cell_type": "code",
   "execution_count": 38,
   "id": "20c5de35",
   "metadata": {},
   "outputs": [
    {
     "name": "stdout",
     "output_type": "stream",
     "text": [
      "sebsnyk/juliet-test-suite-csharp(main):src/testcases/CWE191_Integer_Underflow/s03/CWE191_Integer_Underflow_s03.csproj\n"
     ]
    }
   ],
   "source": [
    "print(projects[0].name)"
   ]
  },
  {
   "cell_type": "markdown",
   "id": "35f6c51d",
   "metadata": {},
   "source": [
    "Given a input string of:\n",
    "\n",
    "```\n",
    "sebsnyk/juliet-test-suite-csharp(main):src/testcases/CWE191_Integer_Underflow/s03/CWE191_Integer_Underflow_s03.csproj\n",
    "```\n",
    "\n",
    "We extract the project id `sebsnyk/juliet-test-suite-csharp(main)`"
   ]
  },
  {
   "cell_type": "code",
   "execution_count": 68,
   "id": "f338cce4",
   "metadata": {},
   "outputs": [],
   "source": [
    "grouped = {}\n",
    "\n",
    "for p in projects:\n",
    "    key = p.remoteRepoUrl\n",
    "    \n",
    "    info = '{}.{}'.format(p.name, p.type)\n",
    "    \n",
    "    if key != None:\n",
    "        if not key in grouped:\n",
    "            grouped[key] = set()\n",
    "        grouped[key].add(info)\n",
    "        next\n",
    "    \n",
    "    \n",
    "    key = p.name.split(':')[0]\n",
    "    if not key in grouped:\n",
    "        grouped[key] = set()\n",
    "\n",
    "    grouped[key].add(info)\n",
    "\n",
    "#print(grouped.keys())"
   ]
  },
  {
   "cell_type": "code",
   "execution_count": 69,
   "id": "13bd2189",
   "metadata": {},
   "outputs": [
    {
     "name": "stdout",
     "output_type": "stream",
     "text": [
      "44\n",
      "will touch 17 projects\n",
      "p: sebsnyk/java-goof(main):todolist-goof/todolist-core/pom.xml.maven\n",
      "p: sebsnyk/java-goof(main):todolist-goof/k8s/calico.yaml.k8sconfig\n",
      "p: sebsnyk/java-goof(main):todolist-goof/k8s/java-goof2.yaml.k8sconfig\n",
      "p: sebsnyk/java-goof(main).sast\n",
      "p: sebsnyk/java-goof(main):todolist-goof/exploits/tomcat-rce/Dockerfile.dockerfile\n",
      "p: sebsnyk/java-goof(main):todolist-goof/todolist-web-common/pom.xml.maven\n",
      "p: sebsnyk/java-goof(main):todolist-goof/k8s/noegress.yaml.k8sconfig\n",
      "p: sebsnyk/java-goof(main):log4shell-goof/log4shell-server/pom.xml.maven\n",
      "p: sebsnyk/java-goof(main):log4shell-goof/log4shell-server/k8s/deploy.yaml.k8sconfig\n",
      "p: sebsnyk/java-goof(main):todolist-goof/Dockerfile.dockerfile\n",
      "p: sebsnyk/java-goof(main):log4shell-goof/log4shell-server/Dockerfile.dockerfile\n",
      "p: sebsnyk/java-goof(main):todolist-goof/todolist-web-struts/pom.xml.maven\n",
      "p: sebsnyk/java-goof(main):todolist-goof/k8s/metallb-config.yaml.k8sconfig\n",
      "p: sebsnyk/java-goof(main):todolist-goof/k8s/java-goof3.yaml.k8sconfig\n",
      "p: sebsnyk/java-goof(main):todolist-goof/pom.xml.maven\n",
      "p: sebsnyk/java-goof(main):todolist-goof/k8s/java-goof.yaml.k8sconfig\n",
      "p: sebsnyk/java-goof(main):log4shell-goof/log4shell-client/pom.xml.maven\n"
     ]
    }
   ],
   "source": [
    "print(len(grouped))\n",
    "for k in grouped.keys():\n",
    "    if k.startswith('sebsnyk/java-goof'):\n",
    "        print('will touch {} projects'.format(len(grouped[k])))\n",
    "        for p in grouped[k]:\n",
    "            print('p: {}'.format(p))"
   ]
  },
  {
   "cell_type": "code",
   "execution_count": 11,
   "id": "3f6c4307",
   "metadata": {},
   "outputs": [],
   "source": [
    "p = projects[0]"
   ]
  },
  {
   "cell_type": "code",
   "execution_count": 12,
   "id": "5fe2a885",
   "metadata": {},
   "outputs": [
    {
     "data": {
      "text/plain": [
       "'http://bitbucket.org/Straumann/snyk-test.git'"
      ]
     },
     "execution_count": 12,
     "metadata": {},
     "output_type": "execute_result"
    }
   ],
   "source": [
    "p.remoteRepoUrl"
   ]
  },
  {
   "cell_type": "markdown",
   "id": "d19f6e13",
   "metadata": {},
   "source": [
    "## Find the projects with specific tag"
   ]
  }
 ],
 "metadata": {
  "kernelspec": {
   "display_name": "Python 3 (ipykernel)",
   "language": "python",
   "name": "python3"
  },
  "language_info": {
   "codemirror_mode": {
    "name": "ipython",
    "version": 3
   },
   "file_extension": ".py",
   "mimetype": "text/x-python",
   "name": "python",
   "nbconvert_exporter": "python",
   "pygments_lexer": "ipython3",
   "version": "3.9.13"
  }
 },
 "nbformat": 4,
 "nbformat_minor": 5
}
