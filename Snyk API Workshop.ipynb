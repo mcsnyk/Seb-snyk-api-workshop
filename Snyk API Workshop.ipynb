{
 "cells": [
  {
   "cell_type": "markdown",
   "id": "22bc5b9b",
   "metadata": {},
   "source": [
    "# Welcome\n",
    "\n",
    "Please install a few Python dependencies via pip before you begin.\n",
    "\n",
    "```\n",
    "pip3 install matplotlib pandas pysnyk\n",
    "```"
   ]
  },
  {
   "cell_type": "markdown",
   "id": "f5f82e2a",
   "metadata": {},
   "source": [
    "### What do we want to achieve in the workshop\n",
    "\n",
    "- Learn how `pysnyk` works roughly\n",
    "- Navigate the basic `pysnyk` API\n",
    "- Do management tasks:\n",
    "  - find projects\n",
    "  - change some fields for these projects\n",
    "- Do reporting tasks\n",
    "  - recreate 1 chart from dashboard\n",
    "  - create a donut chart from something\n",
    "- Encourage the SE team to work on these sheets to cover more usecases."
   ]
  },
  {
   "cell_type": "code",
   "execution_count": 1,
   "id": "ed0934c2",
   "metadata": {},
   "outputs": [],
   "source": [
    "import snyk\n",
    "import pandas as pd"
   ]
  },
  {
   "cell_type": "markdown",
   "id": "f3c0bc8e",
   "metadata": {},
   "source": [
    "Let's get connected. We start by creating a SnykClient instance. This is the Python interface to the Snyk API.\n",
    "\n",
    "For the string, create a service account in your Snyk backend and paste the token here."
   ]
  },
  {
   "cell_type": "markdown",
   "id": "4211f35d",
   "metadata": {},
   "source": [
    "Create a `SnykClient` instance and pass it a token, like from a Service Account. This is created in the Snyk backend. The constructor also takes other parameters for the URL (useful to test the EU instance). See details at https://pypi.org/project/pysnyk/.\n",
    "\n",
    "**Note this project by default uses the V1 API**. It is possible to point it to V3 and get a raw HTTP Client, but there will be easier ways for that in the future using a generated OpenAPI client."
   ]
  },
  {
   "cell_type": "code",
   "execution_count": 2,
   "id": "212c2b53",
   "metadata": {},
   "outputs": [],
   "source": [
    "client = snyk.SnykClient(\"5d778343-78e7-4c73-9ba6-55af47a2f6af\")"
   ]
  },
  {
   "cell_type": "markdown",
   "id": "e9ee98ea",
   "metadata": {},
   "source": [
    "We fetch all organisations and print them in a table. _Ignore the `_client` column_."
   ]
  },
  {
   "cell_type": "code",
   "execution_count": 3,
   "id": "c03304c4",
   "metadata": {},
   "outputs": [
    {
     "data": {
      "text/html": [
       "<div>\n",
       "<style scoped>\n",
       "    .dataframe tbody tr th:only-of-type {\n",
       "        vertical-align: middle;\n",
       "    }\n",
       "\n",
       "    .dataframe tbody tr th {\n",
       "        vertical-align: top;\n",
       "    }\n",
       "\n",
       "    .dataframe thead th {\n",
       "        text-align: right;\n",
       "    }\n",
       "</style>\n",
       "<table border=\"1\" class=\"dataframe\">\n",
       "  <thead>\n",
       "    <tr style=\"text-align: right;\">\n",
       "      <th></th>\n",
       "      <th>name</th>\n",
       "      <th>id</th>\n",
       "      <th>slug</th>\n",
       "      <th>url</th>\n",
       "      <th>group</th>\n",
       "      <th>client</th>\n",
       "    </tr>\n",
       "  </thead>\n",
       "  <tbody>\n",
       "    <tr>\n",
       "      <th>0</th>\n",
       "      <td>GL Test</td>\n",
       "      <td>4d0ac6a1-9e83-40de-b6ec-df7a723fe532</td>\n",
       "      <td>gl-test</td>\n",
       "      <td>https://app.snyk.io/org/gl-test</td>\n",
       "      <td>{'name': 'E Corp Group', 'id': 'a6214dc6-8e1c-...</td>\n",
       "      <td>&lt;snyk.client.SnykClient object at 0x1340a6e50&gt;</td>\n",
       "    </tr>\n",
       "    <tr>\n",
       "      <th>1</th>\n",
       "      <td>.Net World</td>\n",
       "      <td>c6d37704-5daa-41ad-9ca8-33a5b55b4872</td>\n",
       "      <td>.net-world</td>\n",
       "      <td>https://app.snyk.io/org/.net-world</td>\n",
       "      <td>{'name': 'E Corp Group', 'id': 'a6214dc6-8e1c-...</td>\n",
       "      <td>&lt;snyk.client.SnykClient object at 0x1060e7130&gt;</td>\n",
       "    </tr>\n",
       "    <tr>\n",
       "      <th>2</th>\n",
       "      <td>E Corp</td>\n",
       "      <td>47d53b9a-81ad-49c0-8cb5-73f814bbc1fd</td>\n",
       "      <td>e-corp</td>\n",
       "      <td>https://app.snyk.io/org/e-corp</td>\n",
       "      <td>{'name': 'E Corp Group', 'id': 'a6214dc6-8e1c-...</td>\n",
       "      <td>&lt;snyk.client.SnykClient object at 0x1060e7100&gt;</td>\n",
       "    </tr>\n",
       "    <tr>\n",
       "      <th>3</th>\n",
       "      <td>WAD 2022</td>\n",
       "      <td>0df00f3d-feb3-41ce-88ce-a1a44d8b7f8b</td>\n",
       "      <td>wad-2022</td>\n",
       "      <td>https://app.snyk.io/org/wad-2022</td>\n",
       "      <td>{'name': 'E Corp Group', 'id': 'a6214dc6-8e1c-...</td>\n",
       "      <td>&lt;snyk.client.SnykClient object at 0x1340e1040&gt;</td>\n",
       "    </tr>\n",
       "  </tbody>\n",
       "</table>\n",
       "</div>"
      ],
      "text/plain": [
       "         name                                    id        slug  \\\n",
       "0     GL Test  4d0ac6a1-9e83-40de-b6ec-df7a723fe532     gl-test   \n",
       "1  .Net World  c6d37704-5daa-41ad-9ca8-33a5b55b4872  .net-world   \n",
       "2      E Corp  47d53b9a-81ad-49c0-8cb5-73f814bbc1fd      e-corp   \n",
       "3    WAD 2022  0df00f3d-feb3-41ce-88ce-a1a44d8b7f8b    wad-2022   \n",
       "\n",
       "                                  url  \\\n",
       "0     https://app.snyk.io/org/gl-test   \n",
       "1  https://app.snyk.io/org/.net-world   \n",
       "2      https://app.snyk.io/org/e-corp   \n",
       "3    https://app.snyk.io/org/wad-2022   \n",
       "\n",
       "                                               group  \\\n",
       "0  {'name': 'E Corp Group', 'id': 'a6214dc6-8e1c-...   \n",
       "1  {'name': 'E Corp Group', 'id': 'a6214dc6-8e1c-...   \n",
       "2  {'name': 'E Corp Group', 'id': 'a6214dc6-8e1c-...   \n",
       "3  {'name': 'E Corp Group', 'id': 'a6214dc6-8e1c-...   \n",
       "\n",
       "                                           client  \n",
       "0  <snyk.client.SnykClient object at 0x1340a6e50>  \n",
       "1  <snyk.client.SnykClient object at 0x1060e7130>  \n",
       "2  <snyk.client.SnykClient object at 0x1060e7100>  \n",
       "3  <snyk.client.SnykClient object at 0x1340e1040>  "
      ]
     },
     "execution_count": 3,
     "metadata": {},
     "output_type": "execute_result"
    }
   ],
   "source": [
    "orgs = client.organizations.all()\n",
    "\n",
    "pd.DataFrame(orgs)"
   ]
  },
  {
   "cell_type": "markdown",
   "id": "107e45b8",
   "metadata": {},
   "source": [
    "Let's have a quick excursion into `pandas`. The `DataFrame` object actually has methods to learn about it, like `.columns`. "
   ]
  },
  {
   "cell_type": "code",
   "execution_count": 5,
   "id": "51f775d0",
   "metadata": {},
   "outputs": [
    {
     "data": {
      "text/plain": [
       "Index(['name', 'id', 'slug', 'url', 'group', '_client'], dtype='object')"
      ]
     },
     "execution_count": 5,
     "metadata": {},
     "output_type": "execute_result"
    }
   ],
   "source": [
    "pd.DataFrame(orgs).columns"
   ]
  },
  {
   "cell_type": "markdown",
   "id": "9af92ea9",
   "metadata": {},
   "source": [
    "With that knowledge, let's only extract 2 columns and read."
   ]
  },
  {
   "cell_type": "code",
   "execution_count": 6,
   "id": "1c7cebd9",
   "metadata": {},
   "outputs": [
    {
     "data": {
      "text/html": [
       "<div>\n",
       "<style scoped>\n",
       "    .dataframe tbody tr th:only-of-type {\n",
       "        vertical-align: middle;\n",
       "    }\n",
       "\n",
       "    .dataframe tbody tr th {\n",
       "        vertical-align: top;\n",
       "    }\n",
       "\n",
       "    .dataframe thead th {\n",
       "        text-align: right;\n",
       "    }\n",
       "</style>\n",
       "<table border=\"1\" class=\"dataframe\">\n",
       "  <thead>\n",
       "    <tr style=\"text-align: right;\">\n",
       "      <th></th>\n",
       "      <th>id</th>\n",
       "      <th>name</th>\n",
       "    </tr>\n",
       "  </thead>\n",
       "  <tbody>\n",
       "    <tr>\n",
       "      <th>0</th>\n",
       "      <td>4d0ac6a1-9e83-40de-b6ec-df7a723fe532</td>\n",
       "      <td>GL Test</td>\n",
       "    </tr>\n",
       "    <tr>\n",
       "      <th>1</th>\n",
       "      <td>c6d37704-5daa-41ad-9ca8-33a5b55b4872</td>\n",
       "      <td>.Net World</td>\n",
       "    </tr>\n",
       "    <tr>\n",
       "      <th>2</th>\n",
       "      <td>47d53b9a-81ad-49c0-8cb5-73f814bbc1fd</td>\n",
       "      <td>E Corp</td>\n",
       "    </tr>\n",
       "    <tr>\n",
       "      <th>3</th>\n",
       "      <td>0df00f3d-feb3-41ce-88ce-a1a44d8b7f8b</td>\n",
       "      <td>WAD 2022</td>\n",
       "    </tr>\n",
       "  </tbody>\n",
       "</table>\n",
       "</div>"
      ],
      "text/plain": [
       "                                     id        name\n",
       "0  4d0ac6a1-9e83-40de-b6ec-df7a723fe532     GL Test\n",
       "1  c6d37704-5daa-41ad-9ca8-33a5b55b4872  .Net World\n",
       "2  47d53b9a-81ad-49c0-8cb5-73f814bbc1fd      E Corp\n",
       "3  0df00f3d-feb3-41ce-88ce-a1a44d8b7f8b    WAD 2022"
      ]
     },
     "execution_count": 6,
     "metadata": {},
     "output_type": "execute_result"
    }
   ],
   "source": [
    "pd.DataFrame(orgs)[['id', 'name']]"
   ]
  },
  {
   "cell_type": "markdown",
   "id": "ddb81136",
   "metadata": {},
   "source": [
    "## Finding a organisation \n",
    "\n",
    "Next up, let's look at a particular organisation by it's slug. Note the `[0]` at the end, indicating we could b ematching multiple orgs but only check the first one. You can extend the condition return multiple."
   ]
  },
  {
   "cell_type": "code",
   "execution_count": 7,
   "id": "d1a76af2",
   "metadata": {},
   "outputs": [],
   "source": [
    "org = [org for org in orgs if org.slug == 'e-corp'][0]"
   ]
  },
  {
   "cell_type": "code",
   "execution_count": 8,
   "id": "bc4a2aa1",
   "metadata": {},
   "outputs": [
    {
     "name": "stdout",
     "output_type": "stream",
     "text": [
      "Found org: \n",
      "ID: 47d53b9a-81ad-49c0-8cb5-73f814bbc1fd\n",
      "Name: E Corp\n",
      "\n"
     ]
    }
   ],
   "source": [
    "print(\"Found org: \\nID: {}\\nName: {}\\n\".format(org.id, org.name))"
   ]
  },
  {
   "cell_type": "markdown",
   "id": "d43f1b06",
   "metadata": {},
   "source": [
    "### Analysing the projects within a organisation\n",
    "\n",
    "Now that we have the organisation, let's look at the projects within. \n",
    "\n",
    "We saw earlier how to extract only certain columns, this will be done here as well.\n",
    "\n",
    "Start by fetching all projects and store them in the `projects` variable."
   ]
  },
  {
   "cell_type": "code",
   "execution_count": 24,
   "id": "95b2d2af",
   "metadata": {},
   "outputs": [],
   "source": [
    "# Fetch all projects.\n",
    "projects = org.projects.all()"
   ]
  },
  {
   "cell_type": "markdown",
   "id": "d1a23a28",
   "metadata": {},
   "source": [
    "We can run queries on `projects` as well. For example, let's look at type of projects we scan first.\n",
    "\n",
    "Again, we can use a `DataFrame` ability to drill into a column and use the `unique` method to find the types we have."
   ]
  },
  {
   "cell_type": "code",
   "execution_count": 28,
   "id": "50f1f9b6",
   "metadata": {},
   "outputs": [
    {
     "data": {
      "text/plain": [
       "array(['maven', 'nuget', 'deb', 'dockerfile', 'npm', 'cocoapods',\n",
       "       'gradle', 'yarn', 'rpm', 'pip', 'cpp', 'gomodules', 'k8sconfig',\n",
       "       'sast', 'terraformconfig'], dtype=object)"
      ]
     },
     "execution_count": 28,
     "metadata": {},
     "output_type": "execute_result"
    }
   ],
   "source": [
    "pd.DataFrame(projects)['type'].unique()"
   ]
  },
  {
   "cell_type": "markdown",
   "id": "dfcefdea",
   "metadata": {},
   "source": [
    "Let's fetch some details about the projects themselves."
   ]
  },
  {
   "cell_type": "code",
   "execution_count": 25,
   "id": "30110276",
   "metadata": {},
   "outputs": [
    {
     "data": {
      "text/html": [
       "<div>\n",
       "<style scoped>\n",
       "    .dataframe tbody tr th:only-of-type {\n",
       "        vertical-align: middle;\n",
       "    }\n",
       "\n",
       "    .dataframe tbody tr th {\n",
       "        vertical-align: top;\n",
       "    }\n",
       "\n",
       "    .dataframe thead th {\n",
       "        text-align: right;\n",
       "    }\n",
       "</style>\n",
       "<table border=\"1\" class=\"dataframe\">\n",
       "  <thead>\n",
       "    <tr style=\"text-align: right;\">\n",
       "      <th></th>\n",
       "      <th>name</th>\n",
       "      <th>type</th>\n",
       "      <th>totalDependencies</th>\n",
       "    </tr>\n",
       "  </thead>\n",
       "  <tbody>\n",
       "    <tr>\n",
       "      <th>0</th>\n",
       "      <td>sebsnyk/java-reachability-playground(master):p...</td>\n",
       "      <td>maven</td>\n",
       "      <td>14.0</td>\n",
       "    </tr>\n",
       "    <tr>\n",
       "      <th>1</th>\n",
       "      <td>sebsnyk/MvnSpringBootTest(main):pom.xml</td>\n",
       "      <td>maven</td>\n",
       "      <td>18.0</td>\n",
       "    </tr>\n",
       "    <tr>\n",
       "      <th>2</th>\n",
       "      <td>sebsnyk/WebGoat(develop):webgoat-lessons/passw...</td>\n",
       "      <td>maven</td>\n",
       "      <td>116.0</td>\n",
       "    </tr>\n",
       "    <tr>\n",
       "      <th>3</th>\n",
       "      <td>sebsnyk/WebGoat(develop):webwolf/pom.xml</td>\n",
       "      <td>maven</td>\n",
       "      <td>106.0</td>\n",
       "    </tr>\n",
       "    <tr>\n",
       "      <th>4</th>\n",
       "      <td>sebsnyk/juliet-test-suite-csharp(main):src/tes...</td>\n",
       "      <td>nuget</td>\n",
       "      <td>0.0</td>\n",
       "    </tr>\n",
       "    <tr>\n",
       "      <th>...</th>\n",
       "      <td>...</td>\n",
       "      <td>...</td>\n",
       "      <td>...</td>\n",
       "    </tr>\n",
       "    <tr>\n",
       "      <th>308</th>\n",
       "      <td>sebsnyk/terraform-goof(master):modules/subnet/...</td>\n",
       "      <td>terraformconfig</td>\n",
       "      <td>NaN</td>\n",
       "    </tr>\n",
       "    <tr>\n",
       "      <th>309</th>\n",
       "      <td>sebsnyk/terraform-goof(master):modules/storage...</td>\n",
       "      <td>terraformconfig</td>\n",
       "      <td>NaN</td>\n",
       "    </tr>\n",
       "    <tr>\n",
       "      <th>310</th>\n",
       "      <td>sebsnyk/terraform-goof(master):modules/vpc/out...</td>\n",
       "      <td>terraformconfig</td>\n",
       "      <td>NaN</td>\n",
       "    </tr>\n",
       "    <tr>\n",
       "      <th>311</th>\n",
       "      <td>sebsnyk.juice-shop:k8s-src/juice-shop-deploy.yaml</td>\n",
       "      <td>k8sconfig</td>\n",
       "      <td>NaN</td>\n",
       "    </tr>\n",
       "    <tr>\n",
       "      <th>312</th>\n",
       "      <td>sebsnyk.juice-shop:k8s-src/juice-shop-service....</td>\n",
       "      <td>k8sconfig</td>\n",
       "      <td>NaN</td>\n",
       "    </tr>\n",
       "  </tbody>\n",
       "</table>\n",
       "<p>313 rows × 3 columns</p>\n",
       "</div>"
      ],
      "text/plain": [
       "                                                  name             type  \\\n",
       "0    sebsnyk/java-reachability-playground(master):p...            maven   \n",
       "1              sebsnyk/MvnSpringBootTest(main):pom.xml            maven   \n",
       "2    sebsnyk/WebGoat(develop):webgoat-lessons/passw...            maven   \n",
       "3             sebsnyk/WebGoat(develop):webwolf/pom.xml            maven   \n",
       "4    sebsnyk/juliet-test-suite-csharp(main):src/tes...            nuget   \n",
       "..                                                 ...              ...   \n",
       "308  sebsnyk/terraform-goof(master):modules/subnet/...  terraformconfig   \n",
       "309  sebsnyk/terraform-goof(master):modules/storage...  terraformconfig   \n",
       "310  sebsnyk/terraform-goof(master):modules/vpc/out...  terraformconfig   \n",
       "311  sebsnyk.juice-shop:k8s-src/juice-shop-deploy.yaml        k8sconfig   \n",
       "312  sebsnyk.juice-shop:k8s-src/juice-shop-service....        k8sconfig   \n",
       "\n",
       "     totalDependencies  \n",
       "0                 14.0  \n",
       "1                 18.0  \n",
       "2                116.0  \n",
       "3                106.0  \n",
       "4                  0.0  \n",
       "..                 ...  \n",
       "308                NaN  \n",
       "309                NaN  \n",
       "310                NaN  \n",
       "311                NaN  \n",
       "312                NaN  \n",
       "\n",
       "[313 rows x 3 columns]"
      ]
     },
     "execution_count": 25,
     "metadata": {},
     "output_type": "execute_result"
    }
   ],
   "source": [
    "# Maybe we are interested in a particular type only?\n",
    "# projects = [p for p in projects if p.type == 'maven']\n",
    "\n",
    "# Show the data frame.\n",
    "pd.DataFrame(projects)[['name', 'type', 'totalDependencies']]"
   ]
  },
  {
   "cell_type": "markdown",
   "id": "b207afc5",
   "metadata": {},
   "source": [
    "### Quick Pandas Math\n",
    "\n",
    "Pandas supports various methods like `.mean()` or `.max()` on a column. We can also use `.describe()` to see a calculation done on a particular column like `totalDependencies`."
   ]
  },
  {
   "cell_type": "code",
   "execution_count": 15,
   "id": "bb9c25da",
   "metadata": {},
   "outputs": [
    {
     "data": {
      "text/plain": [
       "count     258.000000\n",
       "mean      100.217054\n",
       "std       237.032955\n",
       "min         0.000000\n",
       "25%         0.000000\n",
       "50%         0.000000\n",
       "75%       116.000000\n",
       "max      1243.000000\n",
       "Name: totalDependencies, dtype: float64"
      ]
     },
     "execution_count": 15,
     "metadata": {},
     "output_type": "execute_result"
    }
   ],
   "source": [
    "frame = pd.DataFrame(projects)\n",
    "frame['totalDependencies'].describe()"
   ]
  },
  {
   "cell_type": "markdown",
   "id": "452772cd",
   "metadata": {},
   "source": [
    "## Usecase: How many projects per type?\n",
    "\n",
    "It can be interesting to know how many projects exist per particular type. In pandas, this can be done with `groupby`. The interesting bit is how Pandas understanding of the table automatically sums up relevant fields. `totalDependencies` is accumulated while `isMonitored` is counted."
   ]
  },
  {
   "cell_type": "code",
   "execution_count": 32,
   "id": "79891347",
   "metadata": {},
   "outputs": [
    {
     "data": {
      "text/html": [
       "<div>\n",
       "<style scoped>\n",
       "    .dataframe tbody tr th:only-of-type {\n",
       "        vertical-align: middle;\n",
       "    }\n",
       "\n",
       "    .dataframe tbody tr th {\n",
       "        vertical-align: top;\n",
       "    }\n",
       "\n",
       "    .dataframe thead th {\n",
       "        text-align: right;\n",
       "    }\n",
       "</style>\n",
       "<table border=\"1\" class=\"dataframe\">\n",
       "  <thead>\n",
       "    <tr style=\"text-align: right;\">\n",
       "      <th></th>\n",
       "      <th>readOnly</th>\n",
       "      <th>totalDependencies</th>\n",
       "      <th>isMonitored</th>\n",
       "    </tr>\n",
       "    <tr>\n",
       "      <th>type</th>\n",
       "      <th></th>\n",
       "      <th></th>\n",
       "      <th></th>\n",
       "    </tr>\n",
       "  </thead>\n",
       "  <tbody>\n",
       "    <tr>\n",
       "      <th>cocoapods</th>\n",
       "      <td>0</td>\n",
       "      <td>72.0</td>\n",
       "      <td>3</td>\n",
       "    </tr>\n",
       "    <tr>\n",
       "      <th>cpp</th>\n",
       "      <td>0</td>\n",
       "      <td>15.0</td>\n",
       "      <td>1</td>\n",
       "    </tr>\n",
       "    <tr>\n",
       "      <th>deb</th>\n",
       "      <td>0</td>\n",
       "      <td>1269.0</td>\n",
       "      <td>3</td>\n",
       "    </tr>\n",
       "    <tr>\n",
       "      <th>dockerfile</th>\n",
       "      <td>0</td>\n",
       "      <td>3587.0</td>\n",
       "      <td>28</td>\n",
       "    </tr>\n",
       "    <tr>\n",
       "      <th>gomodules</th>\n",
       "      <td>0</td>\n",
       "      <td>31.0</td>\n",
       "      <td>1</td>\n",
       "    </tr>\n",
       "    <tr>\n",
       "      <th>gradle</th>\n",
       "      <td>0</td>\n",
       "      <td>29.0</td>\n",
       "      <td>4</td>\n",
       "    </tr>\n",
       "    <tr>\n",
       "      <th>k8sconfig</th>\n",
       "      <td>0</td>\n",
       "      <td>0.0</td>\n",
       "      <td>15</td>\n",
       "    </tr>\n",
       "    <tr>\n",
       "      <th>maven</th>\n",
       "      <td>0</td>\n",
       "      <td>4691.0</td>\n",
       "      <td>62</td>\n",
       "    </tr>\n",
       "    <tr>\n",
       "      <th>npm</th>\n",
       "      <td>0</td>\n",
       "      <td>15017.0</td>\n",
       "      <td>18</td>\n",
       "    </tr>\n",
       "    <tr>\n",
       "      <th>nuget</th>\n",
       "      <td>0</td>\n",
       "      <td>352.0</td>\n",
       "      <td>133</td>\n",
       "    </tr>\n",
       "    <tr>\n",
       "      <th>pip</th>\n",
       "      <td>0</td>\n",
       "      <td>147.0</td>\n",
       "      <td>1</td>\n",
       "    </tr>\n",
       "    <tr>\n",
       "      <th>rpm</th>\n",
       "      <td>0</td>\n",
       "      <td>306.0</td>\n",
       "      <td>2</td>\n",
       "    </tr>\n",
       "    <tr>\n",
       "      <th>sast</th>\n",
       "      <td>0</td>\n",
       "      <td>0.0</td>\n",
       "      <td>22</td>\n",
       "    </tr>\n",
       "    <tr>\n",
       "      <th>terraformconfig</th>\n",
       "      <td>0</td>\n",
       "      <td>0.0</td>\n",
       "      <td>18</td>\n",
       "    </tr>\n",
       "    <tr>\n",
       "      <th>yarn</th>\n",
       "      <td>0</td>\n",
       "      <td>340.0</td>\n",
       "      <td>2</td>\n",
       "    </tr>\n",
       "  </tbody>\n",
       "</table>\n",
       "</div>"
      ],
      "text/plain": [
       "                 readOnly  totalDependencies  isMonitored\n",
       "type                                                     \n",
       "cocoapods               0               72.0            3\n",
       "cpp                     0               15.0            1\n",
       "deb                     0             1269.0            3\n",
       "dockerfile              0             3587.0           28\n",
       "gomodules               0               31.0            1\n",
       "gradle                  0               29.0            4\n",
       "k8sconfig               0                0.0           15\n",
       "maven                   0             4691.0           62\n",
       "npm                     0            15017.0           18\n",
       "nuget                   0              352.0          133\n",
       "pip                     0              147.0            1\n",
       "rpm                     0              306.0            2\n",
       "sast                    0                0.0           22\n",
       "terraformconfig         0                0.0           18\n",
       "yarn                    0              340.0            2"
      ]
     },
     "execution_count": 32,
     "metadata": {},
     "output_type": "execute_result"
    }
   ],
   "source": [
    "pd.DataFrame(projects).groupby('type').sum()"
   ]
  },
  {
   "cell_type": "code",
   "execution_count": 12,
   "id": "e4b0ba24",
   "metadata": {},
   "outputs": [
    {
     "data": {
      "text/plain": [
       "True"
      ]
     },
     "execution_count": 12,
     "metadata": {},
     "output_type": "execute_result"
    }
   ],
   "source": [
    "projects[0].tags.add('hello', 'world')\n",
    "projects[0].tags.add('hello', 'world2')"
   ]
  },
  {
   "cell_type": "code",
   "execution_count": 13,
   "id": "ef6de9e0",
   "metadata": {},
   "outputs": [
    {
     "data": {
      "text/plain": [
       "[{'key': 'hello', 'value': 'world2'}, {'key': 'hello', 'value': 'world'}]"
      ]
     },
     "execution_count": 13,
     "metadata": {},
     "output_type": "execute_result"
    }
   ],
   "source": [
    "projects = org.projects.all()\n",
    "projects[0].tags.all()"
   ]
  },
  {
   "cell_type": "code",
   "execution_count": 14,
   "id": "ab7bdcb1",
   "metadata": {},
   "outputs": [
    {
     "data": {
      "text/plain": [
       "[{'key': 'hello', 'value': 'world2'}, {'key': 'hello', 'value': 'world'}]"
      ]
     },
     "execution_count": 14,
     "metadata": {},
     "output_type": "execute_result"
    }
   ],
   "source": [
    "x = [tag for tag in projects[0].tags.all() if tag['key'] == 'hello']\n",
    "x"
   ]
  },
  {
   "cell_type": "code",
   "execution_count": 15,
   "id": "5ce1070e",
   "metadata": {},
   "outputs": [
    {
     "ename": "AttributeError",
     "evalue": "'dict' object has no attribute 'id'",
     "output_type": "error",
     "traceback": [
      "\u001b[0;31m---------------------------------------------------------------------------\u001b[0m",
      "\u001b[0;31mAttributeError\u001b[0m                            Traceback (most recent call last)",
      "Input \u001b[0;32mIn [15]\u001b[0m, in \u001b[0;36m<cell line: 1>\u001b[0;34m()\u001b[0m\n\u001b[0;32m----> 1\u001b[0m tag \u001b[38;5;241m=\u001b[39m \u001b[43mprojects\u001b[49m\u001b[43m[\u001b[49m\u001b[38;5;241;43m0\u001b[39;49m\u001b[43m]\u001b[49m\u001b[38;5;241;43m.\u001b[39;49m\u001b[43mtags\u001b[49m\u001b[38;5;241;43m.\u001b[39;49m\u001b[43mget\u001b[49m\u001b[43m(\u001b[49m\u001b[38;5;124;43m'\u001b[39;49m\u001b[38;5;124;43mhello\u001b[39;49m\u001b[38;5;124;43m'\u001b[39;49m\u001b[43m)\u001b[49m\n\u001b[1;32m      2\u001b[0m \u001b[38;5;28;01mif\u001b[39;00m tag \u001b[38;5;241m!=\u001b[39m \u001b[38;5;28;01mNone\u001b[39;00m:\n\u001b[1;32m      3\u001b[0m     projects[\u001b[38;5;241m0\u001b[39m]\u001b[38;5;241m.\u001b[39mtags\u001b[38;5;241m.\u001b[39mdelete(\u001b[38;5;124m'\u001b[39m\u001b[38;5;124mhello\u001b[39m\u001b[38;5;124m'\u001b[39m, \u001b[38;5;124m'\u001b[39m\u001b[38;5;124mworld\u001b[39m\u001b[38;5;124m'\u001b[39m)\n",
      "File \u001b[0;32m/opt/homebrew/lib/python3.9/site-packages/snyk/managers.py:22\u001b[0m, in \u001b[0;36mManager.get\u001b[0;34m(self, id)\u001b[0m\n\u001b[1;32m     20\u001b[0m \u001b[38;5;28;01mdef\u001b[39;00m \u001b[38;5;21mget\u001b[39m(\u001b[38;5;28mself\u001b[39m, \u001b[38;5;28mid\u001b[39m: \u001b[38;5;28mstr\u001b[39m):\n\u001b[1;32m     21\u001b[0m     \u001b[38;5;28;01mtry\u001b[39;00m:\n\u001b[0;32m---> 22\u001b[0m         \u001b[38;5;28;01mreturn\u001b[39;00m \u001b[38;5;28;43mnext\u001b[39;49m\u001b[43m(\u001b[49m\u001b[43mx\u001b[49m\u001b[43m \u001b[49m\u001b[38;5;28;43;01mfor\u001b[39;49;00m\u001b[43m \u001b[49m\u001b[43mx\u001b[49m\u001b[43m \u001b[49m\u001b[38;5;129;43;01min\u001b[39;49;00m\u001b[43m \u001b[49m\u001b[38;5;28;43mself\u001b[39;49m\u001b[38;5;241;43m.\u001b[39;49m\u001b[43mall\u001b[49m\u001b[43m(\u001b[49m\u001b[43m)\u001b[49m\u001b[43m \u001b[49m\u001b[38;5;28;43;01mif\u001b[39;49;00m\u001b[43m \u001b[49m\u001b[43mx\u001b[49m\u001b[38;5;241;43m.\u001b[39;49m\u001b[43mid\u001b[49m\u001b[43m \u001b[49m\u001b[38;5;241;43m==\u001b[39;49m\u001b[43m \u001b[49m\u001b[38;5;28;43mid\u001b[39;49m\u001b[43m)\u001b[49m\n\u001b[1;32m     23\u001b[0m     \u001b[38;5;28;01mexcept\u001b[39;00m \u001b[38;5;167;01mStopIteration\u001b[39;00m:\n\u001b[1;32m     24\u001b[0m         \u001b[38;5;28;01mraise\u001b[39;00m SnykNotFoundError\n",
      "File \u001b[0;32m/opt/homebrew/lib/python3.9/site-packages/snyk/managers.py:22\u001b[0m, in \u001b[0;36m<genexpr>\u001b[0;34m(.0)\u001b[0m\n\u001b[1;32m     20\u001b[0m \u001b[38;5;28;01mdef\u001b[39;00m \u001b[38;5;21mget\u001b[39m(\u001b[38;5;28mself\u001b[39m, \u001b[38;5;28mid\u001b[39m: \u001b[38;5;28mstr\u001b[39m):\n\u001b[1;32m     21\u001b[0m     \u001b[38;5;28;01mtry\u001b[39;00m:\n\u001b[0;32m---> 22\u001b[0m         \u001b[38;5;28;01mreturn\u001b[39;00m \u001b[38;5;28mnext\u001b[39m(x \u001b[38;5;28;01mfor\u001b[39;00m x \u001b[38;5;129;01min\u001b[39;00m \u001b[38;5;28mself\u001b[39m\u001b[38;5;241m.\u001b[39mall() \u001b[38;5;28;01mif\u001b[39;00m \u001b[43mx\u001b[49m\u001b[38;5;241;43m.\u001b[39;49m\u001b[43mid\u001b[49m \u001b[38;5;241m==\u001b[39m \u001b[38;5;28mid\u001b[39m)\n\u001b[1;32m     23\u001b[0m     \u001b[38;5;28;01mexcept\u001b[39;00m \u001b[38;5;167;01mStopIteration\u001b[39;00m:\n\u001b[1;32m     24\u001b[0m         \u001b[38;5;28;01mraise\u001b[39;00m SnykNotFoundError\n",
      "\u001b[0;31mAttributeError\u001b[0m: 'dict' object has no attribute 'id'"
     ]
    }
   ],
   "source": [
    "tag = projects[0].tags.get('hello')\n",
    "if tag != None:\n",
    "    projects[0].tags.delete('hello', 'world')\n",
    "projects[0].tags.all()"
   ]
  },
  {
   "cell_type": "code",
   "execution_count": null,
   "id": "08029baa",
   "metadata": {},
   "outputs": [],
   "source": []
  }
 ],
 "metadata": {
  "kernelspec": {
   "display_name": "Python 3 (ipykernel)",
   "language": "python",
   "name": "python3"
  },
  "language_info": {
   "codemirror_mode": {
    "name": "ipython",
    "version": 3
   },
   "file_extension": ".py",
   "mimetype": "text/x-python",
   "name": "python",
   "nbconvert_exporter": "python",
   "pygments_lexer": "ipython3",
   "version": "3.9.13"
  },
  "vscode": {
   "interpreter": {
    "hash": "b0fa6594d8f4cbf19f97940f81e996739fb7646882a419484c72d19e05852a7e"
   }
  }
 },
 "nbformat": 4,
 "nbformat_minor": 5
}
