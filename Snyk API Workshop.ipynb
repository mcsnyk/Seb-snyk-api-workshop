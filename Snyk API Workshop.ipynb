{
 "cells": [
  {
   "cell_type": "markdown",
   "id": "22bc5b9b",
   "metadata": {},
   "source": [
    "# Welcome\n",
    "\n",
    "Please install a few Python dependencies via pip before you begin.\n",
    "\n",
    "```\n",
    "pip3 install matplotlib pandas pysnyk\n",
    "```"
   ]
  },
  {
   "cell_type": "markdown",
   "id": "f5f82e2a",
   "metadata": {},
   "source": [
    "### What do we want to achieve in the workshop\n",
    "\n",
    "- Learn how `pysnyk` works roughly\n",
    "- Navigate the basic `pysnyk` API\n",
    "- Do management tasks:\n",
    "  - find projects\n",
    "  - change some fields for these projects\n",
    "- Do reporting tasks\n",
    "  - recreate 1 chart from dashboard\n",
    "  - create a donut chart from something\n",
    "- Encourage the SE team to work on these sheets to cover more usecases."
   ]
  },
  {
   "cell_type": "code",
   "execution_count": 62,
   "id": "ed0934c2",
   "metadata": {},
   "outputs": [],
   "source": [
    "import snyk\n",
    "import pandas as pd\n",
    "import matplotlib as mpl\n",
    "import matplotlib.pyplot as plt\n",
    "\n",
    "plt.rcParams['figure.dpi'] = 300\n",
    "plt.rcParams['savefig.dpi'] = 300\n",
    "\n",
    "%config InlineBackend.figure_format = 'retina'\n",
    "%config InlineBackend.dpi = 300"
   ]
  },
  {
   "cell_type": "markdown",
   "id": "f3c0bc8e",
   "metadata": {},
   "source": [
    "Let's get connected. We start by creating a SnykClient instance. This is the Python interface to the Snyk API.\n",
    "\n",
    "For the string, create a service account in your Snyk backend and paste the token here."
   ]
  },
  {
   "cell_type": "markdown",
   "id": "4211f35d",
   "metadata": {},
   "source": [
    "Create a `SnykClient` instance and pass it a token, like from a Service Account. This is created in the Snyk backend. The constructor also takes other parameters for the URL (useful to test the EU instance). See details at https://pypi.org/project/pysnyk/.\n",
    "\n",
    "**Note this project by default uses the V1 API**. It is possible to point it to V3 and get a raw HTTP Client, but there will be easier ways for that in the future using a generated OpenAPI client."
   ]
  },
  {
   "cell_type": "code",
   "execution_count": 63,
   "id": "212c2b53",
   "metadata": {},
   "outputs": [],
   "source": [
    "client = snyk.SnykClient(\"5d778343-78e7-4c73-9ba6-55af47a2f6af\")"
   ]
  },
  {
   "cell_type": "markdown",
   "id": "e9ee98ea",
   "metadata": {},
   "source": [
    "We fetch all organisations and print them in a table. _Ignore the `_client` column_."
   ]
  },
  {
   "cell_type": "code",
   "execution_count": 64,
   "id": "c03304c4",
   "metadata": {},
   "outputs": [
    {
     "ename": "SnykHTTPError",
     "evalue": "<Response [401]>",
     "output_type": "error",
     "traceback": [
      "\u001b[0;31m---------------------------------------------------------------------------\u001b[0m",
      "\u001b[0;31mSnykHTTPError\u001b[0m                             Traceback (most recent call last)",
      "Input \u001b[0;32mIn [64]\u001b[0m, in \u001b[0;36m<cell line: 1>\u001b[0;34m()\u001b[0m\n\u001b[0;32m----> 1\u001b[0m orgs \u001b[38;5;241m=\u001b[39m \u001b[43mclient\u001b[49m\u001b[38;5;241;43m.\u001b[39;49m\u001b[43morganizations\u001b[49m\u001b[38;5;241;43m.\u001b[39;49m\u001b[43mall\u001b[49m\u001b[43m(\u001b[49m\u001b[43m)\u001b[49m\n\u001b[1;32m      3\u001b[0m pd\u001b[38;5;241m.\u001b[39mDataFrame(orgs)\n",
      "File \u001b[0;32m/opt/homebrew/lib/python3.9/site-packages/snyk/managers.py:109\u001b[0m, in \u001b[0;36mOrganizationManager.all\u001b[0;34m(self)\u001b[0m\n\u001b[1;32m    108\u001b[0m \u001b[38;5;28;01mdef\u001b[39;00m \u001b[38;5;21mall\u001b[39m(\u001b[38;5;28mself\u001b[39m):\n\u001b[0;32m--> 109\u001b[0m     resp \u001b[38;5;241m=\u001b[39m \u001b[38;5;28;43mself\u001b[39;49m\u001b[38;5;241;43m.\u001b[39;49m\u001b[43mclient\u001b[49m\u001b[38;5;241;43m.\u001b[39;49m\u001b[43mget\u001b[49m\u001b[43m(\u001b[49m\u001b[38;5;124;43m\"\u001b[39;49m\u001b[38;5;124;43morgs\u001b[39;49m\u001b[38;5;124;43m\"\u001b[39;49m\u001b[43m)\u001b[49m\n\u001b[1;32m    110\u001b[0m     orgs \u001b[38;5;241m=\u001b[39m []\n\u001b[1;32m    111\u001b[0m     \u001b[38;5;28;01mif\u001b[39;00m \u001b[38;5;124m\"\u001b[39m\u001b[38;5;124morgs\u001b[39m\u001b[38;5;124m\"\u001b[39m \u001b[38;5;129;01min\u001b[39;00m resp\u001b[38;5;241m.\u001b[39mjson():\n",
      "File \u001b[0;32m/opt/homebrew/lib/python3.9/site-packages/snyk/client.py:148\u001b[0m, in \u001b[0;36mSnykClient.get\u001b[0;34m(self, path, params, version)\u001b[0m\n\u001b[1;32m    144\u001b[0m     fkwargs \u001b[38;5;241m=\u001b[39m {\u001b[38;5;124m\"\u001b[39m\u001b[38;5;124mheaders\u001b[39m\u001b[38;5;124m\"\u001b[39m: \u001b[38;5;28mself\u001b[39m\u001b[38;5;241m.\u001b[39mapi_headers}\n\u001b[1;32m    146\u001b[0m logger\u001b[38;5;241m.\u001b[39mdebug(\u001b[38;5;124mf\u001b[39m\u001b[38;5;124m\"\u001b[39m\u001b[38;5;124mGET: \u001b[39m\u001b[38;5;132;01m{\u001b[39;00mdebug_url\u001b[38;5;132;01m}\u001b[39;00m\u001b[38;5;124m\"\u001b[39m)\n\u001b[0;32m--> 148\u001b[0m resp \u001b[38;5;241m=\u001b[39m \u001b[43mretry_call\u001b[49m\u001b[43m(\u001b[49m\n\u001b[1;32m    149\u001b[0m \u001b[43m    \u001b[49m\u001b[38;5;28;43mself\u001b[39;49m\u001b[38;5;241;43m.\u001b[39;49m\u001b[43mrequest\u001b[49m\u001b[43m,\u001b[49m\n\u001b[1;32m    150\u001b[0m \u001b[43m    \u001b[49m\u001b[43mfargs\u001b[49m\u001b[38;5;241;43m=\u001b[39;49m\u001b[43m[\u001b[49m\u001b[43mrequests\u001b[49m\u001b[38;5;241;43m.\u001b[39;49m\u001b[43mget\u001b[49m\u001b[43m,\u001b[49m\u001b[43m \u001b[49m\u001b[43murl\u001b[49m\u001b[43m]\u001b[49m\u001b[43m,\u001b[49m\n\u001b[1;32m    151\u001b[0m \u001b[43m    \u001b[49m\u001b[43mfkwargs\u001b[49m\u001b[38;5;241;43m=\u001b[39;49m\u001b[43mfkwargs\u001b[49m\u001b[43m,\u001b[49m\n\u001b[1;32m    152\u001b[0m \u001b[43m    \u001b[49m\u001b[43mtries\u001b[49m\u001b[38;5;241;43m=\u001b[39;49m\u001b[38;5;28;43mself\u001b[39;49m\u001b[38;5;241;43m.\u001b[39;49m\u001b[43mtries\u001b[49m\u001b[43m,\u001b[49m\n\u001b[1;32m    153\u001b[0m \u001b[43m    \u001b[49m\u001b[43mdelay\u001b[49m\u001b[38;5;241;43m=\u001b[39;49m\u001b[38;5;28;43mself\u001b[39;49m\u001b[38;5;241;43m.\u001b[39;49m\u001b[43mdelay\u001b[49m\u001b[43m,\u001b[49m\n\u001b[1;32m    154\u001b[0m \u001b[43m    \u001b[49m\u001b[43mbackoff\u001b[49m\u001b[38;5;241;43m=\u001b[39;49m\u001b[38;5;28;43mself\u001b[39;49m\u001b[38;5;241;43m.\u001b[39;49m\u001b[43mbackoff\u001b[49m\u001b[43m,\u001b[49m\n\u001b[1;32m    155\u001b[0m \u001b[43m    \u001b[49m\u001b[43mlogger\u001b[49m\u001b[38;5;241;43m=\u001b[39;49m\u001b[43mlogger\u001b[49m\u001b[43m,\u001b[49m\n\u001b[1;32m    156\u001b[0m \u001b[43m\u001b[49m\u001b[43m)\u001b[49m\n\u001b[1;32m    158\u001b[0m \u001b[38;5;28;01mif\u001b[39;00m \u001b[38;5;129;01mnot\u001b[39;00m resp:\n\u001b[1;32m    159\u001b[0m     \u001b[38;5;28;01mraise\u001b[39;00m SnykHTTPError(resp)\n",
      "File \u001b[0;32m/opt/homebrew/lib/python3.9/site-packages/retry/api.py:101\u001b[0m, in \u001b[0;36mretry_call\u001b[0;34m(f, fargs, fkwargs, exceptions, tries, delay, max_delay, backoff, jitter, logger)\u001b[0m\n\u001b[1;32m     99\u001b[0m args \u001b[38;5;241m=\u001b[39m fargs \u001b[38;5;28;01mif\u001b[39;00m fargs \u001b[38;5;28;01melse\u001b[39;00m \u001b[38;5;28mlist\u001b[39m()\n\u001b[1;32m    100\u001b[0m kwargs \u001b[38;5;241m=\u001b[39m fkwargs \u001b[38;5;28;01mif\u001b[39;00m fkwargs \u001b[38;5;28;01melse\u001b[39;00m \u001b[38;5;28mdict\u001b[39m()\n\u001b[0;32m--> 101\u001b[0m \u001b[38;5;28;01mreturn\u001b[39;00m \u001b[43m__retry_internal\u001b[49m\u001b[43m(\u001b[49m\u001b[43mpartial\u001b[49m\u001b[43m(\u001b[49m\u001b[43mf\u001b[49m\u001b[43m,\u001b[49m\u001b[43m \u001b[49m\u001b[38;5;241;43m*\u001b[39;49m\u001b[43margs\u001b[49m\u001b[43m,\u001b[49m\u001b[43m \u001b[49m\u001b[38;5;241;43m*\u001b[39;49m\u001b[38;5;241;43m*\u001b[39;49m\u001b[43mkwargs\u001b[49m\u001b[43m)\u001b[49m\u001b[43m,\u001b[49m\u001b[43m \u001b[49m\u001b[43mexceptions\u001b[49m\u001b[43m,\u001b[49m\u001b[43m \u001b[49m\u001b[43mtries\u001b[49m\u001b[43m,\u001b[49m\u001b[43m \u001b[49m\u001b[43mdelay\u001b[49m\u001b[43m,\u001b[49m\u001b[43m \u001b[49m\u001b[43mmax_delay\u001b[49m\u001b[43m,\u001b[49m\u001b[43m \u001b[49m\u001b[43mbackoff\u001b[49m\u001b[43m,\u001b[49m\u001b[43m \u001b[49m\u001b[43mjitter\u001b[49m\u001b[43m,\u001b[49m\u001b[43m \u001b[49m\u001b[43mlogger\u001b[49m\u001b[43m)\u001b[49m\n",
      "File \u001b[0;32m/opt/homebrew/lib/python3.9/site-packages/retry/api.py:33\u001b[0m, in \u001b[0;36m__retry_internal\u001b[0;34m(f, exceptions, tries, delay, max_delay, backoff, jitter, logger)\u001b[0m\n\u001b[1;32m     31\u001b[0m \u001b[38;5;28;01mwhile\u001b[39;00m _tries:\n\u001b[1;32m     32\u001b[0m     \u001b[38;5;28;01mtry\u001b[39;00m:\n\u001b[0;32m---> 33\u001b[0m         \u001b[38;5;28;01mreturn\u001b[39;00m \u001b[43mf\u001b[49m\u001b[43m(\u001b[49m\u001b[43m)\u001b[49m\n\u001b[1;32m     34\u001b[0m     \u001b[38;5;28;01mexcept\u001b[39;00m exceptions \u001b[38;5;28;01mas\u001b[39;00m e:\n\u001b[1;32m     35\u001b[0m         _tries \u001b[38;5;241m-\u001b[39m\u001b[38;5;241m=\u001b[39m \u001b[38;5;241m1\u001b[39m\n",
      "File \u001b[0;32m/opt/homebrew/lib/python3.9/site-packages/snyk/client.py:71\u001b[0m, in \u001b[0;36mSnykClient.request\u001b[0;34m(self, method, url, headers, params, json)\u001b[0m\n\u001b[1;32m     68\u001b[0m     resp \u001b[38;5;241m=\u001b[39m method(url, headers\u001b[38;5;241m=\u001b[39mheaders)\n\u001b[1;32m     70\u001b[0m \u001b[38;5;28;01mif\u001b[39;00m \u001b[38;5;129;01mnot\u001b[39;00m resp \u001b[38;5;129;01mor\u001b[39;00m resp\u001b[38;5;241m.\u001b[39mstatus_code \u001b[38;5;241m>\u001b[39m\u001b[38;5;241m=\u001b[39m requests\u001b[38;5;241m.\u001b[39mcodes\u001b[38;5;241m.\u001b[39mserver_error:\n\u001b[0;32m---> 71\u001b[0m     \u001b[38;5;28;01mraise\u001b[39;00m SnykHTTPError(resp)\n\u001b[1;32m     72\u001b[0m \u001b[38;5;28;01mreturn\u001b[39;00m resp\n",
      "\u001b[0;31mSnykHTTPError\u001b[0m: <Response [401]>"
     ]
    }
   ],
   "source": [
    "orgs = client.organizations.all()\n",
    "\n",
    "pd.DataFrame(orgs)"
   ]
  },
  {
   "cell_type": "markdown",
   "id": "107e45b8",
   "metadata": {},
   "source": [
    "Let's have a quick excursion into `pandas`. The `DataFrame` object actually has methods to learn about it, like `.columns`. "
   ]
  },
  {
   "cell_type": "code",
   "execution_count": 4,
   "id": "51f775d0",
   "metadata": {},
   "outputs": [
    {
     "data": {
      "text/plain": [
       "Index(['name', 'id', 'slug', 'url', 'group', 'client'], dtype='object')"
      ]
     },
     "execution_count": 4,
     "metadata": {},
     "output_type": "execute_result"
    }
   ],
   "source": [
    "pd.DataFrame(orgs).columns"
   ]
  },
  {
   "cell_type": "markdown",
   "id": "9af92ea9",
   "metadata": {},
   "source": [
    "With that knowledge, let's only extract 2 columns and read."
   ]
  },
  {
   "cell_type": "code",
   "execution_count": 5,
   "id": "1c7cebd9",
   "metadata": {},
   "outputs": [
    {
     "data": {
      "text/html": [
       "<div>\n",
       "<style scoped>\n",
       "    .dataframe tbody tr th:only-of-type {\n",
       "        vertical-align: middle;\n",
       "    }\n",
       "\n",
       "    .dataframe tbody tr th {\n",
       "        vertical-align: top;\n",
       "    }\n",
       "\n",
       "    .dataframe thead th {\n",
       "        text-align: right;\n",
       "    }\n",
       "</style>\n",
       "<table border=\"1\" class=\"dataframe\">\n",
       "  <thead>\n",
       "    <tr style=\"text-align: right;\">\n",
       "      <th></th>\n",
       "      <th>id</th>\n",
       "      <th>name</th>\n",
       "    </tr>\n",
       "  </thead>\n",
       "  <tbody>\n",
       "    <tr>\n",
       "      <th>0</th>\n",
       "      <td>4d0ac6a1-9e83-40de-b6ec-df7a723fe532</td>\n",
       "      <td>GL Test</td>\n",
       "    </tr>\n",
       "    <tr>\n",
       "      <th>1</th>\n",
       "      <td>c6d37704-5daa-41ad-9ca8-33a5b55b4872</td>\n",
       "      <td>.Net World</td>\n",
       "    </tr>\n",
       "    <tr>\n",
       "      <th>2</th>\n",
       "      <td>47d53b9a-81ad-49c0-8cb5-73f814bbc1fd</td>\n",
       "      <td>E Corp</td>\n",
       "    </tr>\n",
       "    <tr>\n",
       "      <th>3</th>\n",
       "      <td>0df00f3d-feb3-41ce-88ce-a1a44d8b7f8b</td>\n",
       "      <td>WAD 2022</td>\n",
       "    </tr>\n",
       "  </tbody>\n",
       "</table>\n",
       "</div>"
      ],
      "text/plain": [
       "                                     id        name\n",
       "0  4d0ac6a1-9e83-40de-b6ec-df7a723fe532     GL Test\n",
       "1  c6d37704-5daa-41ad-9ca8-33a5b55b4872  .Net World\n",
       "2  47d53b9a-81ad-49c0-8cb5-73f814bbc1fd      E Corp\n",
       "3  0df00f3d-feb3-41ce-88ce-a1a44d8b7f8b    WAD 2022"
      ]
     },
     "execution_count": 5,
     "metadata": {},
     "output_type": "execute_result"
    }
   ],
   "source": [
    "pd.DataFrame(orgs)[['id', 'name']]"
   ]
  },
  {
   "cell_type": "markdown",
   "id": "1a40ebc9",
   "metadata": {},
   "source": [
    "## Finding a organisation \n",
    "\n",
    "Next up, let's look at a particular organisation by it's slug. Note the `[0]` at the end, indicating we could b ematching multiple orgs but only check the first one. You can extend the condition return multiple."
   ]
  },
  {
   "cell_type": "code",
   "execution_count": 6,
   "id": "d1a76af2",
   "metadata": {},
   "outputs": [],
   "source": [
    "org = [org for org in orgs if org.slug == 'e-corp'][0]"
   ]
  },
  {
   "cell_type": "code",
   "execution_count": 7,
   "id": "bc4a2aa1",
   "metadata": {},
   "outputs": [
    {
     "name": "stdout",
     "output_type": "stream",
     "text": [
      "Found org with ID: 47d53b9a-81ad-49c0-8cb5-73f814bbc1fd & name: E Corp\n"
     ]
    }
   ],
   "source": [
    "print(\"Found org with ID: {} & name: {}\".format(org.id, org.name))"
   ]
  },
  {
   "cell_type": "markdown",
   "id": "424db076",
   "metadata": {},
   "source": [
    "### Analysing the projects within a organisation\n",
    "\n",
    "Now that we have the organisation, let's look at the projects within. \n",
    "\n",
    "We saw earlier how to extract only certain columns, this will be done here as well.\n",
    "\n",
    "Start by fetching all projects and store them in the `projects` variable. Also, let's print out the list of columns we can inquire."
   ]
  },
  {
   "cell_type": "code",
   "execution_count": 22,
   "id": "95b2d2af",
   "metadata": {},
   "outputs": [
    {
     "name": "stdout",
     "output_type": "stream",
     "text": [
      "Index(['name', 'organization', 'id', 'created', 'origin', 'type', 'readOnly',\n",
      "       'testFrequency', 'totalDependencies', 'lastTestedDate', 'browseUrl',\n",
      "       'isMonitored', 'issueCountsBySeverity', 'imageTag', 'imageId',\n",
      "       'imageBaseImage', 'imagePlatform', 'imageCluster', 'hostname',\n",
      "       'remoteRepoUrl', 'branch', 'attributes', '_tags', 'remediation'],\n",
      "      dtype='object')\n"
     ]
    }
   ],
   "source": [
    "# Fetch all projects. Notice this one takes a bit of time because a actual query to the API is made.\n",
    "projects = org.projects.all()\n",
    "projectsFrame = pd.DataFrame(projects)\n",
    "\n",
    "# Let's inspect the columns first.\n",
    "print(projectsFrame.columns)"
   ]
  },
  {
   "cell_type": "markdown",
   "id": "d5341978",
   "metadata": {},
   "source": [
    "### What types of projects are scanning in this organisation?\n",
    "\n",
    "We can run queries on `projects` as well. For example, let's look at type of projects we scan in Snyk first.\n",
    "\n",
    "Again, we can use a `DataFrame` ability to drill into a column and use the `unique` method to find the types we have."
   ]
  },
  {
   "cell_type": "code",
   "execution_count": 23,
   "id": "b0e1e5d5",
   "metadata": {},
   "outputs": [
    {
     "data": {
      "text/plain": [
       "array(['nuget', 'maven', 'dockerfile', 'deb', 'npm', 'terraformconfig',\n",
       "       'cocoapods', 'gradle', 'sast', 'yarn', 'rpm', 'pip', 'k8sconfig',\n",
       "       'cpp', 'gomodules'], dtype=object)"
      ]
     },
     "execution_count": 23,
     "metadata": {},
     "output_type": "execute_result"
    }
   ],
   "source": [
    "projectsFrame['type'].unique()"
   ]
  },
  {
   "cell_type": "markdown",
   "id": "1935b35d",
   "metadata": {},
   "source": [
    "Interesting, so there are quite a few project types currently scanned. This may be different depending on your organisation.\n",
    "\n",
    "Let's fetch some details about the projects themselves. How about the name, type and the amount of dependencies in this project."
   ]
  },
  {
   "cell_type": "code",
   "execution_count": 25,
   "id": "da6f51ee",
   "metadata": {},
   "outputs": [
    {
     "data": {
      "text/html": [
       "<div>\n",
       "<style scoped>\n",
       "    .dataframe tbody tr th:only-of-type {\n",
       "        vertical-align: middle;\n",
       "    }\n",
       "\n",
       "    .dataframe tbody tr th {\n",
       "        vertical-align: top;\n",
       "    }\n",
       "\n",
       "    .dataframe thead th {\n",
       "        text-align: right;\n",
       "    }\n",
       "</style>\n",
       "<table border=\"1\" class=\"dataframe\">\n",
       "  <thead>\n",
       "    <tr style=\"text-align: right;\">\n",
       "      <th></th>\n",
       "      <th>name</th>\n",
       "      <th>type</th>\n",
       "      <th>totalDependencies</th>\n",
       "    </tr>\n",
       "  </thead>\n",
       "  <tbody>\n",
       "    <tr>\n",
       "      <th>0</th>\n",
       "      <td>sebsnyk/juliet-test-suite-csharp(main):src/tes...</td>\n",
       "      <td>nuget</td>\n",
       "      <td>0.0</td>\n",
       "    </tr>\n",
       "    <tr>\n",
       "      <th>1</th>\n",
       "      <td>sebsnyk/WebGoat(develop):webgoat-lessons/secur...</td>\n",
       "      <td>maven</td>\n",
       "      <td>117.0</td>\n",
       "    </tr>\n",
       "    <tr>\n",
       "      <th>2</th>\n",
       "      <td>sebsnyk/dvcsharp-api(master):dvcsharp-core-api...</td>\n",
       "      <td>nuget</td>\n",
       "      <td>282.0</td>\n",
       "    </tr>\n",
       "    <tr>\n",
       "      <th>3</th>\n",
       "      <td>sebsnyk/WebGoat(develop):webgoat-lessons/auth-...</td>\n",
       "      <td>maven</td>\n",
       "      <td>116.0</td>\n",
       "    </tr>\n",
       "    <tr>\n",
       "      <th>4</th>\n",
       "      <td>sebsnyk/java-goof(main):log4shell-goof/log4she...</td>\n",
       "      <td>dockerfile</td>\n",
       "      <td>178.0</td>\n",
       "    </tr>\n",
       "    <tr>\n",
       "      <th>...</th>\n",
       "      <td>...</td>\n",
       "      <td>...</td>\n",
       "      <td>...</td>\n",
       "    </tr>\n",
       "    <tr>\n",
       "      <th>308</th>\n",
       "      <td>sebsnyk/juice-shop(azure-artifacts):k8s-src/ju...</td>\n",
       "      <td>k8sconfig</td>\n",
       "      <td>NaN</td>\n",
       "    </tr>\n",
       "    <tr>\n",
       "      <th>309</th>\n",
       "      <td>sebsnyk/BenchmarkJava(master)</td>\n",
       "      <td>sast</td>\n",
       "      <td>NaN</td>\n",
       "    </tr>\n",
       "    <tr>\n",
       "      <th>310</th>\n",
       "      <td>sebsnyk/WebGoat(develop)</td>\n",
       "      <td>sast</td>\n",
       "      <td>NaN</td>\n",
       "    </tr>\n",
       "    <tr>\n",
       "      <th>311</th>\n",
       "      <td>sebsnyk.juice-shop:k8s-src/juice-shop-deploy.yaml</td>\n",
       "      <td>k8sconfig</td>\n",
       "      <td>NaN</td>\n",
       "    </tr>\n",
       "    <tr>\n",
       "      <th>312</th>\n",
       "      <td>sebsnyk.juice-shop:k8s-src/juice-shop-service....</td>\n",
       "      <td>k8sconfig</td>\n",
       "      <td>NaN</td>\n",
       "    </tr>\n",
       "  </tbody>\n",
       "</table>\n",
       "<p>313 rows × 3 columns</p>\n",
       "</div>"
      ],
      "text/plain": [
       "                                                  name        type  \\\n",
       "0    sebsnyk/juliet-test-suite-csharp(main):src/tes...       nuget   \n",
       "1    sebsnyk/WebGoat(develop):webgoat-lessons/secur...       maven   \n",
       "2    sebsnyk/dvcsharp-api(master):dvcsharp-core-api...       nuget   \n",
       "3    sebsnyk/WebGoat(develop):webgoat-lessons/auth-...       maven   \n",
       "4    sebsnyk/java-goof(main):log4shell-goof/log4she...  dockerfile   \n",
       "..                                                 ...         ...   \n",
       "308  sebsnyk/juice-shop(azure-artifacts):k8s-src/ju...   k8sconfig   \n",
       "309                      sebsnyk/BenchmarkJava(master)        sast   \n",
       "310                           sebsnyk/WebGoat(develop)        sast   \n",
       "311  sebsnyk.juice-shop:k8s-src/juice-shop-deploy.yaml   k8sconfig   \n",
       "312  sebsnyk.juice-shop:k8s-src/juice-shop-service....   k8sconfig   \n",
       "\n",
       "     totalDependencies  \n",
       "0                  0.0  \n",
       "1                117.0  \n",
       "2                282.0  \n",
       "3                116.0  \n",
       "4                178.0  \n",
       "..                 ...  \n",
       "308                NaN  \n",
       "309                NaN  \n",
       "310                NaN  \n",
       "311                NaN  \n",
       "312                NaN  \n",
       "\n",
       "[313 rows x 3 columns]"
      ]
     },
     "execution_count": 25,
     "metadata": {},
     "output_type": "execute_result"
    }
   ],
   "source": [
    "# Maybe we are interested in a particular type only?\n",
    "# projects = [p for p in projects if p.type == 'maven']\n",
    "\n",
    "# Show the data frame.\n",
    "projectsFrame[['name', 'type', 'totalDependencies']]"
   ]
  },
  {
   "cell_type": "markdown",
   "id": "35bb0dcf",
   "metadata": {},
   "source": [
    "That is a lot of rows (in my case). How can we filter this quickly?\n"
   ]
  },
  {
   "cell_type": "markdown",
   "id": "dd1316a4",
   "metadata": {},
   "source": [
    "### Filter out a project type\n",
    "\n",
    "We may be only interested in SAST projets for once, let's filter this one."
   ]
  },
  {
   "cell_type": "code",
   "execution_count": 58,
   "id": "b6865563",
   "metadata": {},
   "outputs": [
    {
     "data": {
      "text/html": [
       "<div>\n",
       "<style scoped>\n",
       "    .dataframe tbody tr th:only-of-type {\n",
       "        vertical-align: middle;\n",
       "    }\n",
       "\n",
       "    .dataframe tbody tr th {\n",
       "        vertical-align: top;\n",
       "    }\n",
       "\n",
       "    .dataframe thead th {\n",
       "        text-align: right;\n",
       "    }\n",
       "</style>\n",
       "<table border=\"1\" class=\"dataframe\">\n",
       "  <thead>\n",
       "    <tr style=\"text-align: right;\">\n",
       "      <th></th>\n",
       "      <th>name</th>\n",
       "      <th>type</th>\n",
       "      <th>totalDependencies</th>\n",
       "    </tr>\n",
       "  </thead>\n",
       "  <tbody>\n",
       "    <tr>\n",
       "      <th>15</th>\n",
       "      <td>sebsnyk/juice-shop(azure-artifacts):frontend/p...</td>\n",
       "      <td>npm</td>\n",
       "      <td>1243.0</td>\n",
       "    </tr>\n",
       "    <tr>\n",
       "      <th>17</th>\n",
       "      <td>juice-shop/juice-shop(master):frontend/package...</td>\n",
       "      <td>npm</td>\n",
       "      <td>1243.0</td>\n",
       "    </tr>\n",
       "    <tr>\n",
       "      <th>27</th>\n",
       "      <td>sebsnyk/django-DefectDojo(master):docs/package...</td>\n",
       "      <td>npm</td>\n",
       "      <td>0.0</td>\n",
       "    </tr>\n",
       "    <tr>\n",
       "      <th>65</th>\n",
       "      <td>juice-shop</td>\n",
       "      <td>npm</td>\n",
       "      <td>913.0</td>\n",
       "    </tr>\n",
       "    <tr>\n",
       "      <th>66</th>\n",
       "      <td>sebsnyk/juice-shop(azure-artifacts):package.json</td>\n",
       "      <td>npm</td>\n",
       "      <td>913.0</td>\n",
       "    </tr>\n",
       "    <tr>\n",
       "      <th>80</th>\n",
       "      <td>juice-shop</td>\n",
       "      <td>npm</td>\n",
       "      <td>913.0</td>\n",
       "    </tr>\n",
       "    <tr>\n",
       "      <th>86</th>\n",
       "      <td>sebsnyk/juice-shop:latest:/juice-shop/frontend...</td>\n",
       "      <td>npm</td>\n",
       "      <td>1202.0</td>\n",
       "    </tr>\n",
       "    <tr>\n",
       "      <th>107</th>\n",
       "      <td>utils</td>\n",
       "      <td>npm</td>\n",
       "      <td>529.0</td>\n",
       "    </tr>\n",
       "    <tr>\n",
       "      <th>116</th>\n",
       "      <td>juice-shop</td>\n",
       "      <td>npm</td>\n",
       "      <td>913.0</td>\n",
       "    </tr>\n",
       "    <tr>\n",
       "      <th>126</th>\n",
       "      <td>juice-shop/juice-shop(master):package.json</td>\n",
       "      <td>npm</td>\n",
       "      <td>913.0</td>\n",
       "    </tr>\n",
       "    <tr>\n",
       "      <th>135</th>\n",
       "      <td>sebsnyk/goof(master):package.json</td>\n",
       "      <td>npm</td>\n",
       "      <td>571.0</td>\n",
       "    </tr>\n",
       "    <tr>\n",
       "      <th>143</th>\n",
       "      <td>sebsnyk/juice-shop:latest:/juice-shop/package....</td>\n",
       "      <td>npm</td>\n",
       "      <td>913.0</td>\n",
       "    </tr>\n",
       "    <tr>\n",
       "      <th>150</th>\n",
       "      <td>sebsnyk/broker(master):package.json</td>\n",
       "      <td>npm</td>\n",
       "      <td>204.0</td>\n",
       "    </tr>\n",
       "    <tr>\n",
       "      <th>156</th>\n",
       "      <td>juice-shop</td>\n",
       "      <td>npm</td>\n",
       "      <td>913.0</td>\n",
       "    </tr>\n",
       "    <tr>\n",
       "      <th>190</th>\n",
       "      <td>sebsnyk/nodejs-goof(master):package.json</td>\n",
       "      <td>npm</td>\n",
       "      <td>565.0</td>\n",
       "    </tr>\n",
       "    <tr>\n",
       "      <th>195</th>\n",
       "      <td>sebsnyk/juice-shop(master):package.json</td>\n",
       "      <td>npm</td>\n",
       "      <td>913.0</td>\n",
       "    </tr>\n",
       "    <tr>\n",
       "      <th>227</th>\n",
       "      <td>juice-shop</td>\n",
       "      <td>npm</td>\n",
       "      <td>913.0</td>\n",
       "    </tr>\n",
       "    <tr>\n",
       "      <th>239</th>\n",
       "      <td>sebsnyk/juice-shop(master):frontend/package.json</td>\n",
       "      <td>npm</td>\n",
       "      <td>1243.0</td>\n",
       "    </tr>\n",
       "  </tbody>\n",
       "</table>\n",
       "</div>"
      ],
      "text/plain": [
       "                                                  name type  totalDependencies\n",
       "15   sebsnyk/juice-shop(azure-artifacts):frontend/p...  npm             1243.0\n",
       "17   juice-shop/juice-shop(master):frontend/package...  npm             1243.0\n",
       "27   sebsnyk/django-DefectDojo(master):docs/package...  npm                0.0\n",
       "65                                          juice-shop  npm              913.0\n",
       "66    sebsnyk/juice-shop(azure-artifacts):package.json  npm              913.0\n",
       "80                                          juice-shop  npm              913.0\n",
       "86   sebsnyk/juice-shop:latest:/juice-shop/frontend...  npm             1202.0\n",
       "107                                              utils  npm              529.0\n",
       "116                                         juice-shop  npm              913.0\n",
       "126         juice-shop/juice-shop(master):package.json  npm              913.0\n",
       "135                  sebsnyk/goof(master):package.json  npm              571.0\n",
       "143  sebsnyk/juice-shop:latest:/juice-shop/package....  npm              913.0\n",
       "150                sebsnyk/broker(master):package.json  npm              204.0\n",
       "156                                         juice-shop  npm              913.0\n",
       "190           sebsnyk/nodejs-goof(master):package.json  npm              565.0\n",
       "195            sebsnyk/juice-shop(master):package.json  npm              913.0\n",
       "227                                         juice-shop  npm              913.0\n",
       "239   sebsnyk/juice-shop(master):frontend/package.json  npm             1243.0"
      ]
     },
     "execution_count": 58,
     "metadata": {},
     "output_type": "execute_result"
    }
   ],
   "source": [
    "projectsFrame[projectsFrame.type == 'npm'][['name', 'type', 'totalDependencies']]"
   ]
  },
  {
   "cell_type": "markdown",
   "id": "741a174f",
   "metadata": {},
   "source": [
    "### Quick Pandas Math\n",
    "\n",
    "Let's learn about the total dependencies as declared in the column above.\n",
    "\n",
    "Pandas supports various methods like `.mean()` or `.max()` on a column. We can also use `.describe()` to see all of these calculations done."
   ]
  },
  {
   "cell_type": "code",
   "execution_count": 11,
   "id": "bb9c25da",
   "metadata": {},
   "outputs": [
    {
     "data": {
      "text/plain": [
       "count     258.000000\n",
       "mean      100.217054\n",
       "std       237.032955\n",
       "min         0.000000\n",
       "25%         0.000000\n",
       "50%         0.000000\n",
       "75%       116.000000\n",
       "max      1243.000000\n",
       "Name: totalDependencies, dtype: float64"
      ]
     },
     "execution_count": 11,
     "metadata": {},
     "output_type": "execute_result"
    }
   ],
   "source": [
    "projectsFrame['totalDependencies'].describe()"
   ]
  },
  {
   "cell_type": "markdown",
   "id": "a75e260d",
   "metadata": {},
   "source": [
    "## Usecase: How many dependencies per type?\n",
    "\n",
    "It can be interesting to know how many dependencies are pulled in per particular type. In pandas, this can be done with `groupby`. The interesting bit is how Pandas understanding of the table automatically sums up relevant fields. `totalDependencies` is accumulated while `isMonitored` is counted.\n",
    "\n",
    "We use [DataFrame.sum](https://pandas.pydata.org/docs/reference/api/pandas.DataFrame.sum.html) sum up (or count) the data based on a column name passed.\n",
    "\n",
    "Also, [DataFrame.count](https://pandas.pydata.org/docs/reference/api/pandas.DataFrame.count.html) is available."
   ]
  },
  {
   "cell_type": "code",
   "execution_count": 12,
   "id": "9afb3612",
   "metadata": {},
   "outputs": [
    {
     "data": {
      "text/plain": [
       "type\n",
       "cocoapods             72.0\n",
       "cpp                   15.0\n",
       "deb                 1269.0\n",
       "dockerfile          3587.0\n",
       "gomodules             31.0\n",
       "gradle                29.0\n",
       "k8sconfig              0.0\n",
       "maven               4691.0\n",
       "npm                15017.0\n",
       "nuget                352.0\n",
       "pip                  147.0\n",
       "rpm                  306.0\n",
       "sast                   0.0\n",
       "terraformconfig        0.0\n",
       "yarn                 340.0\n",
       "Name: totalDependencies, dtype: float64"
      ]
     },
     "execution_count": 12,
     "metadata": {},
     "output_type": "execute_result"
    }
   ],
   "source": [
    "projectsFrame.groupby('type').sum()['totalDependencies']"
   ]
  },
  {
   "cell_type": "markdown",
   "id": "c327cfe9",
   "metadata": {},
   "source": [
    "These kind of tables can also be built into two dimensions."
   ]
  },
  {
   "cell_type": "code",
   "execution_count": 13,
   "id": "7da4c389",
   "metadata": {},
   "outputs": [
    {
     "data": {
      "text/plain": [
       "origin           type           \n",
       "azure-repos      dockerfile           1\n",
       "                 k8sconfig            2\n",
       "                 npm                  2\n",
       "                 sast                 1\n",
       "bitbucket-cloud  dockerfile           2\n",
       "                 maven                1\n",
       "                 npm                  2\n",
       "                 sast                 3\n",
       "                 terraformconfig      8\n",
       "cli              cocoapods            2\n",
       "                 cpp                  1\n",
       "                 deb                  2\n",
       "                 k8sconfig            2\n",
       "                 maven                6\n",
       "                 npm                  6\n",
       "                 rpm                  2\n",
       "docker-hub       deb                  1\n",
       "                 maven                1\n",
       "                 npm                  2\n",
       "github           cocoapods            1\n",
       "                 dockerfile          25\n",
       "                 gomodules            1\n",
       "                 gradle               4\n",
       "                 k8sconfig           11\n",
       "                 maven               54\n",
       "                 npm                  6\n",
       "                 nuget              133\n",
       "                 pip                  1\n",
       "                 sast                18\n",
       "                 terraformconfig     10\n",
       "                 yarn                 2\n",
       "Name: id, dtype: int64"
      ]
     },
     "execution_count": 13,
     "metadata": {},
     "output_type": "execute_result"
    }
   ],
   "source": [
    "projectsFrame.groupby(['origin', 'type']).count()['id']"
   ]
  },
  {
   "cell_type": "markdown",
   "id": "add771ac",
   "metadata": {},
   "source": [
    "### Focus one one column only"
   ]
  },
  {
   "cell_type": "markdown",
   "id": "9e34cb1e",
   "metadata": {},
   "source": [
    "While it makes sense to get the overview for all columns, let's focus on just the number of dependencies."
   ]
  },
  {
   "cell_type": "code",
   "execution_count": 14,
   "id": "8b125f56",
   "metadata": {},
   "outputs": [
    {
     "data": {
      "text/plain": [
       "<AxesSubplot:xlabel='type'>"
      ]
     },
     "execution_count": 14,
     "metadata": {},
     "output_type": "execute_result"
    },
    {
     "data": {
      "image/png": "[encoded data removed]",
      "text/plain": [
       "<Figure size 432x288 with 1 Axes>"
      ]
     },
     "metadata": {
      "image/png": {
       "height": 261,
       "width": 388
      },
      "needs_background": "light"
     },
     "output_type": "display_data"
    }
   ],
   "source": [
    "projectsFrame.groupby('type')['totalDependencies'].sum().plot()"
   ]
  },
  {
   "cell_type": "markdown",
   "id": "27a8bd87",
   "metadata": {},
   "source": [
    "A nicer way to see this is by using a bar chart. This is quite easy with pandas and matplot."
   ]
  },
  {
   "cell_type": "code",
   "execution_count": 15,
   "id": "8411f86a",
   "metadata": {},
   "outputs": [
    {
     "data": {
      "image/png": "[encoded data removed]",
      "text/plain": [
       "<Figure size 432x288 with 1 Axes>"
      ]
     },
     "metadata": {
      "image/png": {
       "height": 331,
       "width": 388
      },
      "needs_background": "light"
     },
     "output_type": "display_data"
    }
   ],
   "source": [
    "projectsFrame.groupby('type')['totalDependencies'].sum().plot.bar();"
   ]
  },
  {
   "cell_type": "markdown",
   "id": "0f7da2ee",
   "metadata": {},
   "source": [
    "## Management tasks (add & remove tags)\n",
    "\n",
    "You can use `pysnyk` in for other tasks as well."
   ]
  },
  {
   "cell_type": "code",
   "execution_count": 54,
   "id": "354575ad",
   "metadata": {},
   "outputs": [],
   "source": [
    "TAG_NAME='business-unit'\n",
    "TAG_VALUE='sir-christopher-wren'\n",
    "\n",
    "# let's focus on a single project\n",
    "project = client.projects.get(projects[0].id)\n",
    "\n",
    "# check if we have the tags stored first - Snyks API is quite strict.\n",
    "if { 'key': TAG_NAME, 'value': TAG_VALUE} in project.tags.all():\n",
    "    project.tags.delete(TAG_NAME, TAG_VALUE)"
   ]
  },
  {
   "cell_type": "code",
   "execution_count": 55,
   "id": "e4b0ba24",
   "metadata": {},
   "outputs": [
    {
     "data": {
      "text/plain": [
       "True"
      ]
     },
     "execution_count": 55,
     "metadata": {},
     "output_type": "execute_result"
    }
   ],
   "source": [
    "project.tags.add(TAG_NAME, TAG_VALUE)"
   ]
  },
  {
   "cell_type": "code",
   "execution_count": 56,
   "id": "ef6de9e0",
   "metadata": {},
   "outputs": [
    {
     "name": "stdout",
     "output_type": "stream",
     "text": [
      "Tags: [{'key': 'business-unit', 'value': 'sir-christopher-wren'}]\n",
      "Tags: [{'key': 'business-unit', 'value': 'sir-christopher-wren'}]\n"
     ]
    }
   ],
   "source": [
    "# notice how this is still empty!\n",
    "print('Tags: {}'.format(project.tags.all()))\n",
    "\n",
    "# reload it and try again\n",
    "project = client.projects.get(projects[0].id)\n",
    "      \n",
    "print('Tags: {}'.format(project.tags.all()))"
   ]
  },
  {
   "cell_type": "code",
   "execution_count": null,
   "id": "d87146d2",
   "metadata": {},
   "outputs": [],
   "source": []
  }
 ],
 "metadata": {
  "kernelspec": {
   "display_name": "Python 3 (ipykernel)",
   "language": "python",
   "name": "python3"
  },
  "language_info": {
   "codemirror_mode": {
    "name": "ipython",
    "version": 3
   },
   "file_extension": ".py",
   "mimetype": "text/x-python",
   "name": "python",
   "nbconvert_exporter": "python",
   "pygments_lexer": "ipython3",
   "version": "3.9.13"
  },
  "vscode": {
   "interpreter": {
    "hash": "b0fa6594d8f4cbf19f97940f81e996739fb7646882a419484c72d19e05852a7e"
   }
  }
 },
 "nbformat": 4,
 "nbformat_minor": 5
}
