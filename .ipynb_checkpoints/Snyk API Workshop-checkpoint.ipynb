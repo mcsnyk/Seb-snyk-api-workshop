{
 "cells": [
  {
   "cell_type": "markdown",
   "id": "22bc5b9b",
   "metadata": {},
   "source": [
    "# Welcome\n",
    "\n",
    "Please install a few Python dependencies via pip before you begin.\n",
    "\n",
    "```\n",
    "pip3 install matplotlib pandas pysnyk\n",
    "```"
   ]
  },
  {
   "cell_type": "markdown",
   "id": "f5f82e2a",
   "metadata": {},
   "source": [
    "### What do we want to achieve in the workshop\n",
    "\n",
    "- Learn how `pysnyk` works roughly\n",
    "- Navigate the basic `pysnyk` API\n",
    "- Do management tasks:\n",
    "  - find projects\n",
    "  - change some fields for these projects\n",
    "- Do reporting tasks\n",
    "  - recreate 1 chart from dashboard\n",
    "  - create a donut chart from something\n",
    "- Encourage the SE team to work on these sheets to cover more usecases."
   ]
  },
  {
   "cell_type": "code",
   "execution_count": null,
   "id": "ed0934c2",
   "metadata": {},
   "outputs": [],
   "source": [
    "import snyk\n",
    "import pandas as pd\n",
    "import matplotlib as mpl\n",
    "import matplotlib.pyplot as plt\n",
    "\n",
    "plt.rcParams['figure.dpi'] = 300\n",
    "plt.rcParams['savefig.dpi'] = 300\n",
    "\n",
    "%config InlineBackend.figure_format = 'retina'\n",
    "%config InlineBackend.dpi = 300"
   ]
  },
  {
   "cell_type": "markdown",
   "id": "f3c0bc8e",
   "metadata": {},
   "source": [
    "Let's get connected. We start by creating a SnykClient instance. This is the Python interface to the Snyk API.\n",
    "\n",
    "For the string, create a service account in your Snyk backend and paste the token here."
   ]
  },
  {
   "cell_type": "markdown",
   "id": "4211f35d",
   "metadata": {},
   "source": [
    "Create a `SnykClient` instance and pass it a token, like from a Service Account. This is created in the Snyk backend. The constructor also takes other parameters for the URL (useful to test the EU instance). See details at https://pypi.org/project/pysnyk/.\n",
    "\n",
    "**Note this project by default uses the V1 API**. It is possible to point it to V3 and get a raw HTTP Client, but there will be easier ways for that in the future using a generated OpenAPI client."
   ]
  },
  {
   "cell_type": "code",
   "execution_count": null,
   "id": "212c2b53",
   "metadata": {},
   "outputs": [],
   "source": [
    "client = snyk.SnykClient(\"5d778343-78e7-4c73-9ba6-55af47a2f6af\")"
   ]
  },
  {
   "cell_type": "markdown",
   "id": "e9ee98ea",
   "metadata": {},
   "source": [
    "We fetch all organisations and print them in a table. _Ignore the `_client` column_."
   ]
  },
  {
   "cell_type": "code",
   "execution_count": null,
   "id": "c03304c4",
   "metadata": {},
   "outputs": [],
   "source": [
    "orgs = client.organizations.all()\n",
    "\n",
    "pd.DataFrame(orgs)"
   ]
  },
  {
   "cell_type": "markdown",
   "id": "107e45b8",
   "metadata": {},
   "source": [
    "Let's have a quick excursion into `pandas`. The `DataFrame` object actually has methods to learn about it, like `.columns`. "
   ]
  },
  {
   "cell_type": "code",
   "execution_count": null,
   "id": "51f775d0",
   "metadata": {},
   "outputs": [],
   "source": [
    "pd.DataFrame(orgs).columns"
   ]
  },
  {
   "cell_type": "markdown",
   "id": "9af92ea9",
   "metadata": {},
   "source": [
    "With that knowledge, let's only extract 2 columns and read."
   ]
  },
  {
   "cell_type": "code",
   "execution_count": null,
   "id": "1c7cebd9",
   "metadata": {},
   "outputs": [],
   "source": [
    "pd.DataFrame(orgs)[['id', 'name']]"
   ]
  },
  {
   "cell_type": "markdown",
   "id": "647847b1",
   "metadata": {},
   "source": [
    "## Finding a organisation \n",
    "\n",
    "Next up, let's look at a particular organisation by it's slug. Note the `[0]` at the end, indicating we could b ematching multiple orgs but only check the first one. You can extend the condition return multiple."
   ]
  },
  {
   "cell_type": "code",
   "execution_count": null,
   "id": "d1a76af2",
   "metadata": {},
   "outputs": [],
   "source": [
    "org = [org for org in orgs if org.slug == 'e-corp'][0]"
   ]
  },
  {
   "cell_type": "code",
   "execution_count": null,
   "id": "bc4a2aa1",
   "metadata": {},
   "outputs": [],
   "source": [
    "print(\"Found org with ID: {} & name: {}\".format(org.id, org.name))"
   ]
  },
  {
   "cell_type": "markdown",
   "id": "46e71484",
   "metadata": {},
   "source": [
    "### Analysing the projects within a organisation\n",
    "\n",
    "Now that we have the organisation, let's look at the projects within. \n",
    "\n",
    "We saw earlier how to extract only certain columns, this will be done here as well.\n",
    "\n",
    "Start by fetching all projects and store them in the `projects` variable. Also, let's print out the list of columns we can inquire."
   ]
  },
  {
   "cell_type": "code",
   "execution_count": null,
   "id": "95b2d2af",
   "metadata": {},
   "outputs": [],
   "source": [
    "# Fetch all projects. Notice this one takes a bit of time because a actual query to the API is made.\n",
    "projects = org.projects.all()\n",
    "projectsFrame = pd.DataFrame(projects)\n",
    "\n",
    "# Let's inspect the columns first.\n",
    "print(projectsFrame.columns)"
   ]
  },
  {
   "cell_type": "markdown",
   "id": "4c630526",
   "metadata": {},
   "source": [
    "### What types of projects are scanning in this organisation?\n",
    "\n",
    "We can run queries on `projects` as well. For example, let's look at type of projects we scan in Snyk first.\n",
    "\n",
    "Again, we can use a `DataFrame` ability to drill into a column and use the `unique` method to find the types we have."
   ]
  },
  {
   "cell_type": "code",
   "execution_count": null,
   "id": "38477419",
   "metadata": {},
   "outputs": [],
   "source": [
    "projectsFrame['type'].unique()"
   ]
  },
  {
   "cell_type": "markdown",
   "id": "7c08eb75",
   "metadata": {},
   "source": [
    "Interesting, so there are quite a few project types currently scanned. This may be different depending on your organisation.\n",
    "\n",
    "Let's fetch some details about the projects themselves. How about the name, type and the amount of dependencies in this project."
   ]
  },
  {
   "cell_type": "code",
   "execution_count": null,
   "id": "3b0b504b",
   "metadata": {},
   "outputs": [],
   "source": [
    "# Maybe we are interested in a particular type only?\n",
    "# projects = [p for p in projects if p.type == 'maven']\n",
    "\n",
    "# Show the data frame.\n",
    "projectsFrame[['name', 'type', 'totalDependencies']]"
   ]
  },
  {
   "cell_type": "markdown",
   "id": "ed7750ab",
   "metadata": {},
   "source": [
    "That is a lot of rows (in my case). How can we filter this quickly?\n"
   ]
  },
  {
   "cell_type": "markdown",
   "id": "d2ed0db3",
   "metadata": {},
   "source": [
    "### Filter out a project type\n",
    "\n",
    "We may be only interested in SAST projets for once, let's filter this one."
   ]
  },
  {
   "cell_type": "code",
   "execution_count": null,
   "id": "65332100",
   "metadata": {},
   "outputs": [],
   "source": [
    "projectsFrame[projectsFrame.type == 'npm'][['name', 'type', 'totalDependencies']]"
   ]
  },
  {
   "cell_type": "markdown",
   "id": "3513a193",
   "metadata": {},
   "source": [
    "### Quick Pandas Math\n",
    "\n",
    "Let's learn about the total dependencies as declared in the column above.\n",
    "\n",
    "Pandas supports various methods like `.mean()` or `.max()` on a column. We can also use `.describe()` to see all of these calculations done."
   ]
  },
  {
   "cell_type": "code",
   "execution_count": null,
   "id": "bb9c25da",
   "metadata": {},
   "outputs": [],
   "source": [
    "projectsFrame['totalDependencies'].describe()"
   ]
  },
  {
   "cell_type": "markdown",
   "id": "7d3927ec",
   "metadata": {},
   "source": [
    "## Usecase: How many dependencies per type?\n",
    "\n",
    "It can be interesting to know how many dependencies are pulled in per particular type. In pandas, this can be done with `groupby`. The interesting bit is how Pandas understanding of the table automatically sums up relevant fields. `totalDependencies` is accumulated while `isMonitored` is counted.\n",
    "\n",
    "We use [DataFrame.sum](https://pandas.pydata.org/docs/reference/api/pandas.DataFrame.sum.html) sum up (or count) the data based on a column name passed.\n",
    "\n",
    "Also, [DataFrame.count](https://pandas.pydata.org/docs/reference/api/pandas.DataFrame.count.html) is available."
   ]
  },
  {
   "cell_type": "code",
   "execution_count": null,
   "id": "c7148cde",
   "metadata": {},
   "outputs": [],
   "source": [
    "projectsFrame.groupby('type').sum()['totalDependencies']"
   ]
  },
  {
   "cell_type": "markdown",
   "id": "9c22e596",
   "metadata": {},
   "source": [
    "These kind of tables can also be built into two dimensions."
   ]
  },
  {
   "cell_type": "code",
   "execution_count": null,
   "id": "4ccf1741",
   "metadata": {},
   "outputs": [],
   "source": [
    "projectsFrame.groupby(['origin', 'type']).count()['id']"
   ]
  },
  {
   "cell_type": "markdown",
   "id": "5fed41d9",
   "metadata": {},
   "source": [
    "### Focus one one column only"
   ]
  },
  {
   "cell_type": "markdown",
   "id": "36767da2",
   "metadata": {},
   "source": [
    "While it makes sense to get the overview for all columns, let's focus on just the number of dependencies."
   ]
  },
  {
   "cell_type": "code",
   "execution_count": null,
   "id": "1321dd8c",
   "metadata": {},
   "outputs": [],
   "source": [
    "projectsFrame.groupby('type')['totalDependencies'].sum().plot()"
   ]
  },
  {
   "cell_type": "markdown",
   "id": "d92105a1",
   "metadata": {},
   "source": [
    "A nicer way to see this is by using a bar chart. This is quite easy with pandas and matplot."
   ]
  },
  {
   "cell_type": "code",
   "execution_count": null,
   "id": "9c048483",
   "metadata": {},
   "outputs": [],
   "source": [
    "projectsFrame.groupby('type')['totalDependencies'].sum().plot.bar();"
   ]
  },
  {
   "cell_type": "markdown",
   "id": "ce20e60d",
   "metadata": {},
   "source": [
    "## Management tasks (add & remove tags)\n",
    "\n",
    "You can use `pysnyk` in for other tasks as well."
   ]
  },
  {
   "cell_type": "code",
   "execution_count": null,
   "id": "44ff0668",
   "metadata": {},
   "outputs": [],
   "source": [
    "TAG_NAME='business-unit'\n",
    "TAG_VALUE='sir-christopher-wren'\n",
    "\n",
    "# let's focus on a single project\n",
    "project = client.projects.get(projects[0].id)\n",
    "\n",
    "# check if we have the tags stored first - Snyks API is quite strict.\n",
    "if { 'key': TAG_NAME, 'value': TAG_VALUE} in project.tags.all():\n",
    "    project.tags.delete(TAG_NAME, TAG_VALUE)"
   ]
  },
  {
   "cell_type": "code",
   "execution_count": null,
   "id": "e4b0ba24",
   "metadata": {},
   "outputs": [],
   "source": [
    "project.tags.add(TAG_NAME, TAG_VALUE)"
   ]
  },
  {
   "cell_type": "code",
   "execution_count": null,
   "id": "ef6de9e0",
   "metadata": {},
   "outputs": [],
   "source": [
    "# notice how this is still empty!\n",
    "print('Tags: {}'.format(project.tags.all()))\n",
    "\n",
    "# reload it and try again\n",
    "project = client.projects.get(projects[0].id)\n",
    "      \n",
    "print('Tags: {}'.format(project.tags.all()))"
   ]
  },
  {
   "cell_type": "code",
   "execution_count": null,
   "id": "5a5bd1bb",
   "metadata": {},
   "outputs": [],
   "source": []
  }
 ],
 "metadata": {
  "kernelspec": {
   "display_name": "Python 3 (ipykernel)",
   "language": "python",
   "name": "python3"
  },
  "language_info": {
   "codemirror_mode": {
    "name": "ipython",
    "version": 3
   },
   "file_extension": ".py",
   "mimetype": "text/x-python",
   "name": "python",
   "nbconvert_exporter": "python",
   "pygments_lexer": "ipython3",
   "version": "3.9.13"
  },
  "vscode": {
   "interpreter": {
    "hash": "b0fa6594d8f4cbf19f97940f81e996739fb7646882a419484c72d19e05852a7e"
   }
  }
 },
 "nbformat": 4,
 "nbformat_minor": 5
}
